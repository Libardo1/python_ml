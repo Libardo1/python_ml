{
 "cells": [
  {
   "cell_type": "markdown",
   "metadata": {},
   "source": [
    "# Linear regression via gradient descent: function edition\n",
    "\n",
    "We want to find the vector $\\theta$ that minimizes the loss/cost function $J(\\theta) = \\frac{1}{2} \\sum_{i=1}^{m} (h_\\theta(x^{(i)}) - y^{(i)})^2$, where $h_\\theta(x^{(i)}) = \\theta^T X_i$.\n",
    "\n",
    "Gradient descent begins with $\\theta_{\\text{init}}$, some initial value(s) for elements $j=0, ..., n$, then updates $\\theta$ iteratively such that $\\theta_j := \\theta_j - \\alpha \\dfrac{\\partial J(\\theta)}{\\partial \\theta_j}$, where $\\alpha$ is a learning rate or step size parameter. In this way, we are taking first order steps along the gradient towards the direction with lower $J(\\theta)$.\n",
    "\n",
    "The partial derivative of the cost function with respect to parameter $\\theta_j$ is $\\dfrac{\\partial J(\\theta)}{\\partial \\theta_j} = \\sum_{i=1}^{m} \\big(h_\\theta (x^{(i)}) - y^{(i)}\\big) x_j^{(i)}$, which means that the update rule can be written as $\\theta_j := \\theta_j - \\alpha \\sum_{i=1}^{m} \\big(h_\\theta (x^{(i)}) - y^{(i)}\\big) x_j^{(i)}$.\n",
    "\n",
    "In this implementation I'll try to avoid global variables and use functions instead."
   ]
  },
  {
   "cell_type": "code",
   "execution_count": 1,
   "metadata": {
    "collapsed": false
   },
   "outputs": [],
   "source": [
    "%matplotlib inline\n",
    "import numpy as np\n",
    "import pandas as pd\n",
    "import matplotlib\n",
    "import matplotlib.pyplot as plt\n",
    "plt.style.use('ggplot')\n",
    "\n",
    "def h(X, theta):\n",
    "    \"\"\"Compute hypothesis function X * theta\n",
    "    \n",
    "    Args: \n",
    "        X: Design matrix\n",
    "        theta: parameter vector\n",
    "        \n",
    "    Returns: \n",
    "        prediction: the product of X and theta\n",
    "    \"\"\"\n",
    "    prediction = X.dot(theta)\n",
    "    return prediction\n",
    "\n",
    "def sim_reg(N, p, sigma):\n",
    "    \"\"\"Simulate linear regression data\n",
    "    \n",
    "    Args: \n",
    "        N: (int) the number of examples\n",
    "        p: (int) the number of parameters\n",
    "        sigma: (float) residual standard deviation\n",
    "    \n",
    "    Returns: \n",
    "        A dict containing the true coefficients, y, and X\n",
    "    \"\"\"\n",
    "    # construct the design matrix\n",
    "    intercept = np.repeat(1, N)\n",
    "    if p > 1:\n",
    "        x = np.random.rand(N, p - 1)\n",
    "        X = np.column_stack((intercept, x))\n",
    "    else:\n",
    "        X = intercept\n",
    "    \n",
    "    theta = np.random.normal(0, 1, p)\n",
    "    mu_y = h(X, theta)\n",
    "    y = np.random.normal(mu_y, sigma, N)\n",
    "    return {'theta':theta, 'y':y, 'X':X}"
   ]
  },
  {
   "cell_type": "code",
   "execution_count": 2,
   "metadata": {
    "collapsed": false
   },
   "outputs": [
    {
     "name": "stdout",
     "output_type": "stream",
     "text": [
      "[-0.80694746 -0.11000682 -0.61868594  1.00225658]\n"
     ]
    }
   ],
   "source": [
    "## Define parameters as global variables\n",
    "N = 10000  # sample size\n",
    "p = 4     # number of coefficients\n",
    "sigma = 1 # standard deviation of errors\n",
    "\n",
    "out = sim_reg(N, p, sigma)\n",
    "\n",
    "print(out['theta'])"
   ]
  },
  {
   "cell_type": "markdown",
   "metadata": {},
   "source": [
    "Defining more helper functions to implement gradient descent: "
   ]
  },
  {
   "cell_type": "code",
   "execution_count": 3,
   "metadata": {
    "collapsed": false
   },
   "outputs": [],
   "source": [
    "def partial_J(y, X, theta, j):\n",
    "    \"\"\"Computes partial derivative of J wrt theta\n",
    "    \n",
    "    Args: \n",
    "        y: response vector\n",
    "        X: design matrix\n",
    "        theta: coefficient vector\n",
    "        j: index for the coefficient \n",
    "        \n",
    "    Returns: \n",
    "        dJ/dtheta_j (float)\n",
    "    \"\"\"\n",
    "    return sum((h(X, theta) - y) * X[:, j])\n",
    "\n",
    "def gradient_descent(theta, alpha, iters, y, X):\n",
    "    \"\"\"Implements gradient descent\n",
    "    \n",
    "    Args: \n",
    "        theta: (array-like) coefficient vector\n",
    "        alpha: (float) learning rate\n",
    "        iters: (int) number of iterations (steps to take)\n",
    "    \n",
    "    Returns: \n",
    "        theta_out: (numpy array) value of theta at each iteration\n",
    "    \"\"\"\n",
    "    n = len(theta)\n",
    "    theta_out = np.empty([iters, n])\n",
    "    for i in range(iters):\n",
    "        theta_out[i, :] = theta\n",
    "        for j in range(n):\n",
    "            theta[j] = theta[j] - alpha * partial_J(y, X, theta, j)\n",
    "    return theta_out"
   ]
  },
  {
   "cell_type": "markdown",
   "metadata": {},
   "source": [
    "Now, we can initialize the parameters at some random, dispersed values, choose the learning rate, and iteratively update our parameter vector using gradient descent."
   ]
  },
  {
   "cell_type": "code",
   "execution_count": 4,
   "metadata": {
    "collapsed": false
   },
   "outputs": [],
   "source": [
    "theta_init = np.random.normal(size = p)\n",
    "theta_init\n",
    "\n",
    "alpha = .0001\n",
    "iters = 100\n",
    "\n",
    "res = gradient_descent(theta_init, alpha = alpha, iters = iters, \n",
    "                       y = out['y'], X = out['X'])"
   ]
  },
  {
   "cell_type": "markdown",
   "metadata": {},
   "source": [
    "Last, plot the results to evaluate convergence and parameter recovery."
   ]
  },
  {
   "cell_type": "code",
   "execution_count": 5,
   "metadata": {
    "collapsed": false,
    "scrolled": true
   },
   "outputs": [
    {
     "data": {
      "image/png": "[encoded data removed]",
      "text/plain": [
       "<matplotlib.figure.Figure at 0x7f46e616be10>"
      ]
     },
     "metadata": {},
     "output_type": "display_data"
    }
   ],
   "source": [
    "for i in range(0, out['X'].shape[1]):\n",
    "    plt.axhline(out['theta'][i], linestyle = 'dashed', color = 'black')\n",
    "    plt.plot(range(iters), res[:, i], lw = 2)\n",
    "    plt.xlabel('iteration')\n",
    "    plt.ylabel(r'$\\theta$')"
   ]
  },
  {
   "cell_type": "code",
   "execution_count": null,
   "metadata": {
    "collapsed": true
   },
   "outputs": [],
   "source": []
  }
 ],
 "metadata": {
  "kernelspec": {
   "display_name": "Python 3",
   "language": "python",
   "name": "python3"
  },
  "language_info": {
   "codemirror_mode": {
    "name": "ipython",
    "version": 3
   },
   "file_extension": ".py",
   "mimetype": "text/x-python",
   "name": "python",
   "nbconvert_exporter": "python",
   "pygments_lexer": "ipython3",
   "version": "3.5.1"
  }
 },
 "nbformat": 4,
 "nbformat_minor": 0
}
