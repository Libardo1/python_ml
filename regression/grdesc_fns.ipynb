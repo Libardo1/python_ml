{
 "cells": [
  {
   "cell_type": "markdown",
   "metadata": {},
   "source": [
    "# Linear regression via gradient descent\n",
    "\n",
    "We want to find the vector $\\theta$ that minimizes the loss/cost function $J(\\theta) = \\frac{1}{2} \\sum_{i=1}^{m} (h_\\theta(x^{(i)}) - y^{(i)})^2$, where $h_\\theta(x^{(i)}) = \\theta^T X_i$.\n",
    "\n",
    "Gradient descent begins with $\\theta_{\\text{init}}$ then updates $\\theta$ iteratively such that $\\theta_j := \\theta_j - \\alpha \\dfrac{\\partial J(\\theta)}{\\partial \\theta_j}$, where $\\alpha$ is a learning rate or step size parameter. In this way, we are taking first order steps along the gradient towards the direction with lower $J(\\theta)$.\n",
    "\n",
    "The partial derivative of the cost function with respect to parameter $\\theta_j$ is $\\dfrac{\\partial J(\\theta)}{\\partial \\theta_j} = \\sum_{i=1}^{m} \\big(h_\\theta (x^{(i)}) - y^{(i)}\\big) x_j^{(i)}$, which means that the update rule can be written as $\\theta_j := \\theta_j - \\alpha \\sum_{i=1}^{m} \\big(h_\\theta (x^{(i)}) - y^{(i)}\\big) x_j^{(i)}$.\n"
   ]
  },
  {
   "cell_type": "code",
   "execution_count": 1,
   "metadata": {
    "collapsed": false
   },
   "outputs": [],
   "source": [
    "%matplotlib inline\n",
    "import numpy as np\n",
    "import pandas as pd\n",
    "import matplotlib\n",
    "import matplotlib.pyplot as plt\n",
    "plt.style.use('ggplot')\n",
    "\n",
    "\n",
    "class LinearModel(object):\n",
    "    \"\"\"Define and fit linear models\"\"\"\n",
    "    \n",
    "    \n",
    "    def __init__(self, X, y):\n",
    "        \"\"\"Initializing a model\n",
    "            \n",
    "    Args: \n",
    "        X (numpy.array): n-by-p design matrix\n",
    "        y (vector): n-vector of responses\n",
    "        \"\"\"\n",
    "        self.X = X\n",
    "        self.n = X.shape[0]\n",
    "        self.p = X.shape[1]\n",
    "        self.y = y\n",
    "    \n",
    "    \n",
    "    def predict(self, theta):\n",
    "        \"\"\"Compute hypothesis function X * theta\n",
    "\n",
    "        Args: \n",
    "            X: Design matrix\n",
    "            theta: parameter vector\n",
    "\n",
    "        Returns: \n",
    "            prediction: the product of X and theta\n",
    "        \"\"\"\n",
    "        prediction = self.X.dot(theta)\n",
    "        return prediction\n",
    "    \n",
    "    \n",
    "    def partial_J(self, theta, j):\n",
    "        \"\"\"Computes partial derivative of J wrt theta\n",
    "\n",
    "        Args: \n",
    "            theta: vector of coefficients\n",
    "            j: index for a coefficient (element in theta)\n",
    "\n",
    "        Returns: \n",
    "            dJ/dtheta_j (float)\n",
    "        \"\"\"\n",
    "        return sum((self.predict(theta) - self.y) * self.X[:, j])\n",
    "\n",
    "    \n",
    "    def optimize(self, alpha, iters):\n",
    "        \"\"\"Implements gradient descent\n",
    "\n",
    "        Args: \n",
    "            alpha: (float) learning rate\n",
    "            iters: (int) number of iterations (steps to take)\n",
    "\n",
    "        Returns: \n",
    "            theta_out: (numpy array) value of theta at each iteration\n",
    "        \"\"\"\n",
    "        theta_init = np.random.normal(size = self.p)\n",
    "        theta = np.empty([iters, self.p])\n",
    "        theta[0, :] = theta_init\n",
    "        for i in range(1, iters):\n",
    "            for j in range(self.p):\n",
    "                theta[i, j] = theta[i - 1, j] - alpha * self.partial_J(theta[i - 1, :], j)\n",
    "        self.theta_out = theta"
   ]
  },
  {
   "cell_type": "code",
   "execution_count": 2,
   "metadata": {
    "collapsed": false
   },
   "outputs": [
    {
     "name": "stdout",
     "output_type": "stream",
     "text": [
      "(5000, 5)\n",
      "[-3.81084584  2.35903755 -2.67789283  0.7126973  -0.25931611]\n"
     ]
    }
   ],
   "source": [
    "## Define parameters as global variables\n",
    "N = 5000  # sample size\n",
    "p = 5     # number of coefficients\n",
    "sigma = 1\n",
    "\n",
    "# make design matrix\n",
    "X = np.column_stack((np.repeat(1, N), np.random.rand(N, p - 1)))\n",
    "print(X.shape)\n",
    "\n",
    "# assign true coefficients\n",
    "true_theta = np.random.normal(0, 3, p)\n",
    "print(true_theta)\n",
    "\n",
    "# generate response vector\n",
    "y = X.dot(true_theta) + np.random.normal(0, sigma, N)"
   ]
  },
  {
   "cell_type": "markdown",
   "metadata": {},
   "source": [
    "Now, we can initialize the parameters at some random, dispersed values, choose the learning rate, and iteratively update our parameter vector using gradient descent."
   ]
  },
  {
   "cell_type": "code",
   "execution_count": 3,
   "metadata": {
    "collapsed": false
   },
   "outputs": [],
   "source": [
    "m = LinearModel(X, y)\n",
    "m.optimize(alpha = .0001, iters = 1000)"
   ]
  },
  {
   "cell_type": "markdown",
   "metadata": {},
   "source": [
    "Last, plot the results to evaluate convergence and parameter recovery."
   ]
  },
  {
   "cell_type": "code",
   "execution_count": 4,
   "metadata": {
    "collapsed": false,
    "scrolled": true
   },
   "outputs": [
    {
     "data": {
      "image/png": "[encoded data removed]",
      "text/plain": [
       "<matplotlib.figure.Figure at 0x7fbbbc3d37b8>"
      ]
     },
     "metadata": {},
     "output_type": "display_data"
    }
   ],
   "source": [
    "for i in range(m.theta_out.shape[1]):\n",
    "    plt.axhline(true_theta[i], linestyle = 'dashed', color = 'black')\n",
    "    plt.plot(range(m.theta_out.shape[0]), m.theta_out[:, i], lw = 2)\n",
    "    plt.xlabel('iteration')\n",
    "    plt.ylabel(r'$\\theta$')"
   ]
  },
  {
   "cell_type": "code",
   "execution_count": null,
   "metadata": {
    "collapsed": true
   },
   "outputs": [],
   "source": []
  }
 ],
 "metadata": {
  "kernelspec": {
   "display_name": "Python 3",
   "language": "python",
   "name": "python3"
  },
  "language_info": {
   "codemirror_mode": {
    "name": "ipython",
    "version": 3
   },
   "file_extension": ".py",
   "mimetype": "text/x-python",
   "name": "python",
   "nbconvert_exporter": "python",
   "pygments_lexer": "ipython3",
   "version": "3.5.1"
  }
 },
 "nbformat": 4,
 "nbformat_minor": 0
}
