{
 "cells": [
  {
   "cell_type": "markdown",
   "metadata": {},
   "source": [
    "# Linear regression via gradient descent: function edition\n",
    "\n",
    "We want to find the vector $\\theta$ that minimizes the loss/cost function $J(\\theta) = \\frac{1}{2} \\sum_{i=1}^{m} (h_\\theta(x^{(i)}) - y^{(i)})^2$, where $h_\\theta(x^{(i)}) = \\theta^T X_i$.\n",
    "\n",
    "Gradient descent begins with $\\theta_{\\text{init}}$, some initial value(s) for elements $j=0, ..., n$, then updates $\\theta$ iteratively such that $\\theta_j := \\theta_j - \\alpha \\dfrac{\\partial J(\\theta)}{\\partial \\theta_j}$, where $\\alpha$ is a learning rate or step size parameter. In this way, we are taking first order steps along the gradient towards the direction with lower $J(\\theta)$.\n",
    "\n",
    "The partial derivative of the cost function with respect to parameter $\\theta_j$ is $\\dfrac{\\partial J(\\theta)}{\\partial \\theta_j} = \\sum_{i=1}^{m} \\big(h_\\theta (x^{(i)}) - y^{(i)}\\big) x_j^{(i)}$, which means that the update rule can be written as $\\theta_j := \\theta_j - \\alpha \\sum_{i=1}^{m} \\big(h_\\theta (x^{(i)}) - y^{(i)}\\big) x_j^{(i)}$.\n",
    "\n",
    "In this implementation I'll try to avoid global variables and use functions instead."
   ]
  },
  {
   "cell_type": "code",
   "execution_count": 42,
   "metadata": {
    "collapsed": false
   },
   "outputs": [],
   "source": [
    "%matplotlib inline\n",
    "import numpy as np\n",
    "import pandas as pd\n",
    "import matplotlib\n",
    "import matplotlib.pyplot as plt\n",
    "plt.style.use('ggplot')\n",
    "\n",
    "\n",
    "class LinearModel(object):\n",
    "    \"\"\"Define and fit linear models\"\"\"\n",
    "    \n",
    "    \n",
    "    def __init__(self, X, y):\n",
    "        \"\"\"Initializing a model\n",
    "            \n",
    "    Args: \n",
    "        X (numpy.array): n-by-p design matrix\n",
    "        y (vector): n-vector of responses\n",
    "        \"\"\"\n",
    "        self.X = X\n",
    "        self.n = X.shape[0]\n",
    "        self.p = X.shape[1]\n",
    "        self.y = y\n",
    "    \n",
    "    \n",
    "    def predict(self, theta):\n",
    "        \"\"\"Compute hypothesis function X * theta\n",
    "\n",
    "        Args: \n",
    "            X: Design matrix\n",
    "            theta: parameter vector\n",
    "\n",
    "        Returns: \n",
    "            prediction: the product of X and theta\n",
    "        \"\"\"\n",
    "        prediction = self.X.dot(theta)\n",
    "        return prediction\n",
    "    \n",
    "    \n",
    "    def partial_J(self, theta, j):\n",
    "        \"\"\"Computes partial derivative of J wrt theta\n",
    "\n",
    "        Args: \n",
    "            j: index for a coefficient (element in theta)\n",
    "\n",
    "        Returns: \n",
    "            dJ/dtheta_j (float)\n",
    "        \"\"\"\n",
    "        return sum((self.predict(theta) - self.y) * self.X[:, j])\n",
    "\n",
    "    \n",
    "    def optimize(self, alpha, iters):\n",
    "        \"\"\"Implements gradient descent\n",
    "\n",
    "        Args: \n",
    "            alpha: (float) learning rate\n",
    "            iters: (int) number of iterations (steps to take)\n",
    "\n",
    "        Returns: \n",
    "            theta_out: (numpy array) value of theta at each iteration\n",
    "        \"\"\"\n",
    "        theta = np.random.normal(size = self.p)\n",
    "        theta_out = np.empty([iters, self.p])\n",
    "        for i in range(iters):\n",
    "            print(theta)\n",
    "            theta_out[i, :] = theta\n",
    "            for j in range(self.p):\n",
    "                theta[j] = theta[j] - alpha * self.partial_J(theta, j)\n",
    "        self.theta_out = theta_out\n"
   ]
  },
  {
   "cell_type": "code",
   "execution_count": 43,
   "metadata": {
    "collapsed": false
   },
   "outputs": [
    {
     "name": "stdout",
     "output_type": "stream",
     "text": [
      "(10000, 4)\n",
      "[  3.93898702 -10.94913204   5.65391428  -6.2970982 ]\n"
     ]
    }
   ],
   "source": [
    "## Define parameters as global variables\n",
    "N = 10000  # sample size\n",
    "p = 4     # number of coefficients\n",
    "sigma = 2\n",
    "\n",
    "# make design matrix\n",
    "X = np.column_stack((np.repeat(1, N), np.random.rand(N, p - 1)))\n",
    "print(X.shape)\n",
    "\n",
    "# assign true coefficients\n",
    "true_theta = np.random.normal(0, 10, p)\n",
    "print(true_theta)\n",
    "\n",
    "# generate response vector\n",
    "y = X.dot(true_theta) + np.random.normal(0, sigma, N)"
   ]
  },
  {
   "cell_type": "markdown",
   "metadata": {},
   "source": [
    "Now, we can initialize the parameters at some random, dispersed values, choose the learning rate, and iteratively update our parameter vector using gradient descent."
   ]
  },
  {
   "cell_type": "code",
   "execution_count": 50,
   "metadata": {
    "collapsed": false
   },
   "outputs": [
    {
     "name": "stdout",
     "output_type": "stream",
     "text": [
      "[-0.07420003 -0.6451246   0.69217688  2.3446767 ]\n",
      "[-9.1466574   5.83170744  6.2047019   0.14871592]\n",
      "[-5.80308302 -1.8297375   8.59164698 -0.82263781]\n",
      "[-3.02489463 -6.96649504  9.01261764 -1.39275747]\n",
      "[ -0.58180715 -10.46004291   8.40272686  -1.93714394]\n",
      "[  1.55691637 -12.76178112   7.33575663  -2.58879692]\n",
      "[  3.34940726 -14.13260852   6.16957767  -3.35507341]\n",
      "[  4.7467526  -14.75876951   5.12247034  -4.18493285]\n",
      "[  5.72344492 -14.80231738   4.31579022  -5.00811055]\n",
      "[  6.28753847 -14.41796877   3.80076757  -5.75757806]\n",
      "[  6.47927416 -13.75384266   3.5779547   -6.38148929]\n",
      "[  6.36363289 -12.94575184   3.61304448  -6.84822492]\n",
      "[  6.02035988 -12.11030072   3.85040504  -7.1468514 ]\n",
      "[  5.53378494 -11.33946833   4.22459539  -7.28463567]\n",
      "[  4.98391269 -10.69780928   4.669736    -7.28286532]\n",
      "[  4.43961736 -10.22246852   5.126569    -7.17194943]\n",
      "[ 3.95428464 -9.92565561  5.54716099 -6.98654603]\n",
      "[ 3.56387093 -9.79893531  5.89736995 -6.76125121]\n",
      "[ 3.28708672 -9.81858477  6.15735443 -6.52718821]\n",
      "[ 3.12724648 -9.95128959  6.3205177  -6.30965921]\n",
      "[  3.07525116 -10.15955539   6.39134064  -6.12687433]\n",
      "[  3.11316674 -10.40636516   6.38256504  -5.98965782]\n",
      "[  3.21791558 -10.6587838    6.31215158  -5.90195324]\n",
      "[  3.36468856 -10.89037817   6.20036678  -5.8619069 ]\n",
      "[  3.52979753 -11.08246628   6.06726342  -5.86329774]\n",
      "[  3.69280325 -11.22432283   5.93072238  -5.8970966 ]\n",
      "[  3.83786185 -11.31254469   5.80513138  -5.95297161]\n",
      "[  3.95432286 -11.34982038   5.70069637  -6.02060062]\n",
      "[  4.0366797  -11.34335446   5.62331851  -6.09070105]\n",
      "[  4.08401657 -11.30317837   5.57492795  -6.15573486]\n",
      "[  4.09911501 -11.24054119   5.55414287  -6.21028782]\n",
      "[  4.08738259 -11.16652383   5.55711822  -6.25115509]\n",
      "[  4.05574888 -11.09096735   5.57845866  -6.27718758]\n",
      "[  4.01164619 -11.02175525   5.61209049  -6.28896575]\n",
      "[  3.96215866 -10.96444533   5.65201442  -6.28837049]\n",
      "[  3.91338883 -10.92221309   5.69288932  -6.27811609]\n",
      "[  3.87005816 -10.89604542   5.73042497  -6.26130009]\n",
      "[  3.83533133 -10.88511153   5.76158543  -6.24101138]\n",
      "[  3.81083393 -10.88723597   5.78462348  -6.22002328]\n",
      "[  3.79682014 -10.89940463   5.79897875  -6.20058399]\n",
      "[  3.7924416  -10.918246     5.80507911  -6.18430451]\n",
      "[  3.79606871 -10.94044486   5.80408584  -6.17213433]\n",
      "[  3.80562124 -10.96306168   5.79762022  -6.1644084 ]\n",
      "[  3.8188729  -10.9837458    5.78750272  -6.16094554]\n",
      "[  3.83370527 -11.00084415   5.7755283   -6.16117726]\n",
      "[  3.84829645 -11.01341677   5.76329244  -6.16428771]\n",
      "[  3.86123952 -11.02117783   5.75207443  -6.16934829]\n",
      "[  3.8715942  -11.0243838    5.74277732  -6.17543469]\n",
      "[  3.8788807  -11.02369151   5.73591841  -6.18171837]\n",
      "[  3.8830289  -11.02000655   5.73166022  -6.18752884]\n",
      "[  3.88429744 -11.01433941   5.72987045  -6.19238675]\n",
      "[  3.88317736 -11.0076819    5.73019841  -6.19601086]\n",
      "[  3.88029312 -11.00091204   5.73215694  -6.19830358]\n",
      "[  3.87631157 -10.99473073   5.7352004   -6.19932138]\n",
      "[  3.87186616 -10.98962961   5.73879176  -6.19923603]\n",
      "[  3.86750082 -10.98588687   5.74245445  -6.19829277]\n",
      "[  3.86363476 -10.98358523   5.74580702  -6.19676995]\n",
      "[  3.86054735 -10.98264558   5.74858084  -6.19494417]\n",
      "[  3.85838017 -10.98286963   5.7506228   -6.19306293]\n",
      "[  3.85715242 -10.9839853    5.75188579  -6.19132621]\n",
      "[  3.85678528 -10.98568977   5.75241068  -6.18987661]\n",
      "[  3.85713081 -10.98768631   5.75230337  -6.18879745]\n",
      "[  3.85800155 -10.98971266   5.75171022  -6.18811712]\n",
      "[  3.85919778 -10.99155986   5.75079477  -6.18781807]\n",
      "[  3.86053007 -10.99308168   5.74971769  -6.18784839]\n",
      "[  3.86183604 -10.99419581   5.74862133  -6.18813437]\n",
      "[  3.86299079 -10.99487833   5.74761942  -6.18859258]\n",
      "[  3.86391132 -10.99515362   5.74679187  -6.18914026]\n",
      "[  3.86455586 -10.99508153   5.74618398  -6.18970345]\n",
      "[  3.86491919 -10.99474381   5.74580941  -6.19022254]\n",
      "[  3.86502533 -10.9942312    5.74565553  -6.19065508]\n",
      "[  3.86491885 -10.99363247   5.74569038  -6.19097642]\n",
      "[  3.864656   -10.99302596   5.74586999  -6.19117828]\n",
      "[  3.86429663 -10.99247397   5.74614533  -6.19126612]\n",
      "[  3.86389735 -10.99201997   5.74646835  -6.19125562]\n",
      "[  3.86350666 -10.99168834   5.74679651  -6.19116893]\n",
      "[  3.86316175 -10.99148596   5.74709592  -6.19103107]\n",
      "[  3.8628873  -10.99140535   5.74734281  -6.19086679]\n",
      "[  3.86269562 -10.99142842   5.74752377  -6.19069818]\n",
      "[  3.86258811 -10.99153064   5.74763485  -6.19054304]\n",
      "[  3.86255746 -10.99168479   5.74767994  -6.19041398]\n",
      "[  3.86259025 -10.99186433   5.74766869  -6.1903183 ]\n",
      "[  3.86266958 -10.99204586   5.74761432  -6.19025841]\n",
      "[  3.86277754 -10.99221081   5.74753151  -6.19023262]\n",
      "[  3.8628972  -10.99234624   5.74743464  -6.19023619]\n",
      "[  3.86301408 -10.99244496   5.74733642  -6.19026246]\n",
      "[  3.86311709 -10.99250496   5.74724694  -6.19030394]\n",
      "[  3.86319891 -10.99252855   5.74717329  -6.19035321]\n",
      "[  3.86325592 -10.9925212    5.74711942  -6.19040368]\n",
      "[  3.86328772 -10.99249027   5.74708649  -6.19045005]\n",
      "[  3.86329656 -10.99244391   5.74707328  -6.19048856]\n",
      "[  3.86328647 -10.99239008   5.74707689  -6.19051705]\n",
      "[  3.86326253 -10.99233574   5.74709335  -6.19053481]\n",
      "[  3.8632301  -10.99228646   5.74711825  -6.19054238]\n",
      "[  3.86319424 -10.99224606   5.7471473   -6.19054119]\n",
      "[  3.86315928 -10.99221668   5.7471767   -6.19053323]\n",
      "[  3.86312851 -10.99219889   5.74720343  -6.19052075]\n",
      "[  3.86310412 -10.99219198   5.74722541  -6.19050597]\n",
      "[  3.86308717 -10.99219432   5.74724144  -6.19049086]\n",
      "[  3.86307776 -10.99220368   5.74725121  -6.190477  ]\n"
     ]
    }
   ],
   "source": [
    "m = LinearModel(X, y)\n",
    "m.optimize(alpha = .0003, iters = 100)"
   ]
  },
  {
   "cell_type": "markdown",
   "metadata": {},
   "source": [
    "Last, plot the results to evaluate convergence and parameter recovery."
   ]
  },
  {
   "cell_type": "code",
   "execution_count": 51,
   "metadata": {
    "collapsed": false,
    "scrolled": true
   },
   "outputs": [
    {
     "data": {
      "image/png": "[encoded data removed]",
      "text/plain": [
       "<matplotlib.figure.Figure at 0x7fa8933ccc18>"
      ]
     },
     "metadata": {},
     "output_type": "display_data"
    }
   ],
   "source": [
    "for i in range(m.theta_out.shape[1]):\n",
    "    plt.axhline(true_theta[i], linestyle = 'dashed', color = 'black')\n",
    "    plt.plot(range(m.theta_out.shape[0]), m.theta_out[:, i], lw = 2)\n",
    "    plt.xlabel('iteration')\n",
    "    plt.ylabel(r'$\\theta$')"
   ]
  },
  {
   "cell_type": "code",
   "execution_count": null,
   "metadata": {
    "collapsed": true
   },
   "outputs": [],
   "source": []
  }
 ],
 "metadata": {
  "kernelspec": {
   "display_name": "Python 3",
   "language": "python",
   "name": "python3"
  },
  "language_info": {
   "codemirror_mode": {
    "name": "ipython",
    "version": 3
   },
   "file_extension": ".py",
   "mimetype": "text/x-python",
   "name": "python",
   "nbconvert_exporter": "python",
   "pygments_lexer": "ipython3",
   "version": "3.5.1"
  }
 },
 "nbformat": 4,
 "nbformat_minor": 0
}
