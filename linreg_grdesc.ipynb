{
 "cells": [
  {
   "cell_type": "markdown",
   "metadata": {},
   "source": [
    "# Linear regression via gradient descent\n",
    "\n",
    "We want to find the vector $\\theta$ that minimizes the loss/cost function $J(\\theta) = \\frac{1}{2} \\sum_{i=1}^{m} (h_\\theta(x^{(i)}) - y^{(i)})^2$, where $h_\\theta(x^{(i)}) = \\theta^T X_i$.\n",
    "\n",
    "Gradient descent begins with $\\theta_{0}$, some initial value(s) for elements $j=0, ..., n$, then updates $\\theta$ iteratively such that $\\theta_j := \\theta_j - \\alpha \\dfrac{\\partial J(\\theta)}{\\partial \\theta_j}$, where $\\alpha$ is a learning rate or step size parameter. In this way, we are taking first order steps along the gradient towards (hopefully) the region with lower $J(\\theta)$.\n",
    "\n",
    "The partial derivative of the cost function with respect to parameter $\\theta_j$ is $\\dfrac{\\partial J(\\theta)}{\\partial \\theta_j} = \\sum_{i=1}^{m} \\big(h_\\theta (x^{(i)}) - y^{(i)}\\big) x_j^{(i)}$, which means that the update rule can be written as $\\theta_j := \\theta_j - \\alpha \\sum_{i=1}^{m} \\big(h_\\theta (x^{(i)}) - y^{(i)}\\big) x_j^{(i)}$."
   ]
  },
  {
   "cell_type": "code",
   "execution_count": 427,
   "metadata": {
    "collapsed": false
   },
   "outputs": [],
   "source": [
    "%matplotlib inline\n",
    "import numpy as np\n",
    "import pandas as pd\n",
    "import matplotlib\n",
    "import matplotlib.pyplot as plt\n",
    "plt.style.use('ggplot')\n",
    "\n",
    "# sample size\n",
    "N = 200\n",
    "# number of params\n",
    "npar = 2\n",
    "n = npar + 1 # ncol in X\n",
    "\n",
    "# make design matrix\n",
    "intercept = np.repeat(1, N)\n",
    "x = np.random.rand(N, npar)\n",
    "X = np.column_stack((intercept, x))\n",
    "\n",
    "# true parameter vector\n",
    "beta = np.random.normal(0, 1, n)\n",
    "\n",
    "mu_y = np.dot(X, beta)\n",
    "sigma = 1\n",
    "y = np.random.normal(mu_y, sigma, N)"
   ]
  },
  {
   "cell_type": "markdown",
   "metadata": {},
   "source": [
    "Now, we can initialize the parameters at some random, dispersed values, choose the learning rate, and iteratively update our parameter vector using gradient descent. Again, the update rule is $\\theta_j := \\theta_j - \\alpha \\sum_{i=1}^{m} \\big(h_\\theta (x^{(i)}) - y^{(i)}\\big) x_j^{(i)}$."
   ]
  },
  {
   "cell_type": "code",
   "execution_count": 428,
   "metadata": {
    "collapsed": false
   },
   "outputs": [],
   "source": [
    "# choose initial values for theta\n",
    "theta = np.random.normal(0, 3, n)\n",
    "\n",
    "# choose learning rate/stepsize parameter \n",
    "alpha = .005\n",
    "\n",
    "# iteratively update parameter vector \n",
    "iters = 100\n",
    "theta_out = np.empty([iters, n])\n",
    "val = np.empty(N)\n",
    "\n",
    "for it in range(0, iters):\n",
    "    theta_out[it, ] = theta\n",
    "    for j in range(0, n):\n",
    "        for i in range(0, N):\n",
    "            val[i] = (np.dot(np.transpose(theta_out[it, ]), X[i, ]) - y[i]) * X[i, j]\n",
    "        theta[j] = theta[j] - alpha * sum(val)"
   ]
  },
  {
   "cell_type": "markdown",
   "metadata": {},
   "source": [
    "Last, plot the results to evaluate convergence and parameter recovery."
   ]
  },
  {
   "cell_type": "code",
   "execution_count": 429,
   "metadata": {
    "collapsed": false,
    "scrolled": true
   },
   "outputs": [
    {
     "data": {
      "image/png": "[encoded data removed]",
      "text/plain": [
       "<matplotlib.figure.Figure at 0x7fe125993d50>"
      ]
     },
     "metadata": {},
     "output_type": "display_data"
    }
   ],
   "source": [
    "for i in range(0, n):\n",
    "    plt.axhline(theta[i], linestyle = 'dashed', color='black')\n",
    "    plt.plot(range(0, iters), theta_out[:, i], lw=2)\n",
    "    plt.xlabel('iteration')\n",
    "    plt.ylabel(r'$\\theta$')"
   ]
  },
  {
   "cell_type": "code",
   "execution_count": null,
   "metadata": {
    "collapsed": true
   },
   "outputs": [],
   "source": []
  }
 ],
 "metadata": {
  "kernelspec": {
   "display_name": "Python 2",
   "language": "python",
   "name": "python2"
  },
  "language_info": {
   "codemirror_mode": {
    "name": "ipython",
    "version": 2
   },
   "file_extension": ".py",
   "mimetype": "text/x-python",
   "name": "python",
   "nbconvert_exporter": "python",
   "pygments_lexer": "ipython2",
   "version": "2.7.11"
  }
 },
 "nbformat": 4,
 "nbformat_minor": 0
}
