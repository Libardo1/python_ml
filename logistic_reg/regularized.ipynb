{
 "cells": [
  {
   "cell_type": "markdown",
   "metadata": {},
   "source": [
    "## Regularized logistic regression\n",
    "\n",
    "The new cost function $J(\\theta)$ includes a squared penalty with regularization parameter $\\lambda$:\n",
    "\n",
    "$J(\\theta) = - (m^{-1} \\sum_{i = 1}^{m} y_i log h_{\\theta} (x_i) + (1 - y_i) log (1 - h_{\\theta} (x_i))) + \\frac{\\lambda}{2m} \\sum_{j =1} ^ n \\theta_{j}^{2}$  \n",
    "\n",
    "When $\\lambda$ is large, more regularization occurs."
   ]
  },
  {
   "cell_type": "code",
   "execution_count": 141,
   "metadata": {
    "collapsed": false
   },
   "outputs": [],
   "source": [
    "%matplotlib inline\n",
    "%config InlineBackend.figure_format = 'svg'\n",
    "import numpy as np\n",
    "import matplotlib\n",
    "import matplotlib.pyplot as plt\n",
    "from scipy.special import expit\n",
    "from scipy.optimize import minimize\n",
    "from __future__ import division\n",
    "from math import log\n",
    "plt.style.use('ggplot')\n",
    "\n",
    "def sim_reg(N, M):\n",
    "    ''' simulates logistic regression data '''\n",
    "    intercept = np.repeat(1, N)\n",
    "    if M > 1:\n",
    "        x = np.random.rand(N, M - 1)\n",
    "        X = np.column_stack((intercept, x))\n",
    "    else:\n",
    "        X = intercept\n",
    "    beta = np.random.normal(0, 1, M)\n",
    "    h_theta = expit(np.dot(X, beta))\n",
    "    y = np.random.binomial(1, h_theta, N)\n",
    "    return {'beta':beta, 'y':y, 'X':X}\n",
    "\n",
    "out = sim_reg(N = 1000, M = 5)"
   ]
  },
  {
   "cell_type": "markdown",
   "metadata": {},
   "source": [
    "Next I'll define some helper functions to compute the log likelihood and the cost function (negative log likelihood + regularization term)."
   ]
  },
  {
   "cell_type": "code",
   "execution_count": 142,
   "metadata": {
    "collapsed": true
   },
   "outputs": [],
   "source": [
    "def loglik(theta, y, x):\n",
    "    ''' computes logistic regression log likelihood '''\n",
    "    p = expit(np.dot(x, theta))\n",
    "    res = y * log(p) + (1 - y) * log(1 - p)\n",
    "    return res\n",
    "\n",
    "def cost_fun(theta, lam, y, X):\n",
    "    ''' computes cost function '''\n",
    "    \n",
    "    M = len(X[0, :]) # number of parameters\n",
    "    N = len(X[:, 0]) # number of observations\n",
    "    \n",
    "    # cost component due to regularization\n",
    "    reg_cost = lam / (2.0 * N) * sum(theta[1:] ** 2)\n",
    "    \n",
    "    # cost due to lack of fit\n",
    "    fit_cost = [loglik(theta, y[i], X[i, :]) for i in range(N)]\n",
    "    fit_cost = - sum(fit_cost) / M\n",
    "    \n",
    "    cost = fit_cost + reg_cost\n",
    "    return cost"
   ]
  },
  {
   "cell_type": "markdown",
   "metadata": {},
   "source": [
    "Then I'll come up with some initial values $\\theta_{\\text{init}}$ and optimize to find the theta that minimize the cost function."
   ]
  },
  {
   "cell_type": "code",
   "execution_count": 148,
   "metadata": {
    "collapsed": false,
    "scrolled": true
   },
   "outputs": [
    {
     "name": "stdout",
     "output_type": "stream",
     "text": [
      "[ 0.09639041 -0.05206089  0.01227324  0.11676205 -0.17258369]\n",
      "[ 1.6311084  -0.54261767 -0.82622108  0.0322602  -1.66068865]\n",
      "[ 1.33024274 -0.26130636 -0.66052471 -0.0857613  -1.41851758]\n"
     ]
    }
   ],
   "source": [
    "theta_init = np.random.normal(0, 0.1, len(out['X'][0, :]))\n",
    "\n",
    "res = minimize(cost_fun, theta_init, \n",
    "               method='nelder-mead', \n",
    "               options={'xtol': 1e-8},\n",
    "               args=(0, out['y'], out['X']))\n",
    "\n",
    "print theta_init\n",
    "print res['x']\n",
    "print out['beta']"
   ]
  },
  {
   "cell_type": "code",
   "execution_count": null,
   "metadata": {
    "collapsed": true
   },
   "outputs": [],
   "source": []
  }
 ],
 "metadata": {
  "kernelspec": {
   "display_name": "Python 2",
   "language": "python",
   "name": "python2"
  },
  "language_info": {
   "codemirror_mode": {
    "name": "ipython",
    "version": 2
   },
   "file_extension": ".py",
   "mimetype": "text/x-python",
   "name": "python",
   "nbconvert_exporter": "python",
   "pygments_lexer": "ipython2",
   "version": "2.7.11"
  }
 },
 "nbformat": 4,
 "nbformat_minor": 0
}
