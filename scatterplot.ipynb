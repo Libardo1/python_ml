{
 "cells": [
  {
   "cell_type": "markdown",
   "metadata": {},
   "source": [
    "# 2d scatterplots with python\n",
    "\n",
    "First, specify that figures should be shown inline, import packages, and use the ggplot plotting style instead of the default matlab style."
   ]
  },
  {
   "cell_type": "code",
   "execution_count": 27,
   "metadata": {
    "collapsed": true
   },
   "outputs": [],
   "source": [
    "%matplotlib inline\n",
    "import numpy as np\n",
    "import pandas as pd\n",
    "import matplotlib\n",
    "import matplotlib.pyplot as plt\n",
    "plt.style.use('ggplot')"
   ]
  },
  {
   "cell_type": "markdown",
   "metadata": {},
   "source": [
    "Simulate data from a linear model with Gaussian errors: $y_i \\sim N(\\alpha + \\beta x_i, \\sigma)$"
   ]
  },
  {
   "cell_type": "code",
   "execution_count": 28,
   "metadata": {
    "collapsed": true
   },
   "outputs": [],
   "source": [
    "N = 20\n",
    "x = np.random.rand(N) * 3\n",
    "alpha = -2\n",
    "beta = 3\n",
    "mu_y = alpha + beta * x\n",
    "sigma = 1\n",
    "y = np.random.normal(mu_y, sigma, N)\n"
   ]
  },
  {
   "cell_type": "markdown",
   "metadata": {},
   "source": [
    "Create and view a dataframe with the pandas library"
   ]
  },
  {
   "cell_type": "code",
   "execution_count": 29,
   "metadata": {
    "collapsed": false
   },
   "outputs": [
    {
     "name": "stdout",
     "output_type": "stream",
     "text": [
      "           x         y\n",
      "0   1.512191  1.839618\n",
      "1   1.062909  2.587654\n",
      "2   0.579514 -0.529175\n",
      "3   2.641005  3.715737\n",
      "4   0.430387 -0.899280\n",
      "5   1.276504  2.108967\n",
      "6   1.927306  2.863779\n",
      "7   2.539551  6.125267\n",
      "8   2.378728  4.236138\n",
      "9   1.443679  1.754648\n",
      "10  1.615634  1.370680\n",
      "11  1.637630  4.096539\n",
      "12  2.550841  4.397720\n",
      "13  0.464288  1.519262\n",
      "14  1.967549  3.680581\n",
      "15  0.684653 -1.567554\n",
      "16  2.827548  4.873169\n",
      "17  1.295114  0.736042\n",
      "18  2.134968  4.920651\n",
      "19  2.849952  7.443428\n"
     ]
    }
   ],
   "source": [
    "d = {'x': x, 'y': y}\n",
    "df = pd.DataFrame(data=d)\n",
    "print df"
   ]
  },
  {
   "cell_type": "markdown",
   "metadata": {},
   "source": [
    "Finally, make the plots two different ways."
   ]
  },
  {
   "cell_type": "code",
   "execution_count": 30,
   "metadata": {
    "collapsed": false,
    "scrolled": true
   },
   "outputs": [
    {
     "data": {
      "text/plain": [
       "<matplotlib.axes._subplots.AxesSubplot at 0x7feed1167150>"
      ]
     },
     "execution_count": 30,
     "metadata": {},
     "output_type": "execute_result"
    },
    {
     "data": {
      "image/png": "[encoded data removed]",
      "text/plain": [
       "<matplotlib.figure.Figure at 0x7feed1145450>"
      ]
     },
     "metadata": {},
     "output_type": "display_data"
    }
   ],
   "source": [
    "# plot using the dataframe\n",
    "df.plot(kind='scatter', x='x', y='y')"
   ]
  },
  {
   "cell_type": "code",
   "execution_count": 31,
   "metadata": {
    "collapsed": false,
    "scrolled": true
   },
   "outputs": [
    {
     "data": {
      "text/plain": [
       "<matplotlib.collections.PathCollection at 0x7feed1010c10>"
      ]
     },
     "execution_count": 31,
     "metadata": {},
     "output_type": "execute_result"
    },
    {
     "data": {
      "image/png": "[encoded data removed]",
      "text/plain": [
       "<matplotlib.figure.Figure at 0x7feed542be50>"
      ]
     },
     "metadata": {},
     "output_type": "display_data"
    }
   ],
   "source": [
    "# plot with the objects in global environment\n",
    "plt.scatter(x, y, c='blue', alpha=.5)"
   ]
  },
  {
   "cell_type": "code",
   "execution_count": null,
   "metadata": {
    "collapsed": true
   },
   "outputs": [],
   "source": []
  }
 ],
 "metadata": {
  "kernelspec": {
   "display_name": "Python 2",
   "language": "python",
   "name": "python2"
  },
  "language_info": {
   "codemirror_mode": {
    "name": "ipython",
    "version": 2
   },
   "file_extension": ".py",
   "mimetype": "text/x-python",
   "name": "python",
   "nbconvert_exporter": "python",
   "pygments_lexer": "ipython2",
   "version": "2.7.11"
  }
 },
 "nbformat": 4,
 "nbformat_minor": 0
}
